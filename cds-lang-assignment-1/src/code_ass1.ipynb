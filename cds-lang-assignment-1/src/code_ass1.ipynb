{
 "cells": [
  {
   "cell_type": "markdown",
   "metadata": {},
   "source": [
    "# Assignment 1"
   ]
  },
  {
   "cell_type": "markdown",
   "metadata": {},
   "source": [
    "## Preprocessing"
   ]
  },
  {
   "cell_type": "code",
   "execution_count": null,
   "metadata": {},
   "outputs": [],
   "source": [
    "# Remove <>\n"
   ]
  },
  {
   "cell_type": "markdown",
   "metadata": {},
   "source": [
    "The task:\n",
    "\n",
    "1. Loop over the each text in the in folder\n",
    "2. Extract the following information\n",
    "    - Relative frequenct of Nouns, Verbs, Adjective and Adverbs per 10.000 words\n",
    "    - total number of unique PER, LOC, ORGS\n",
    "3. for each sub-folder (a1,a2,a3,..) save a table which shows the following information"
   ]
  },
  {
   "cell_type": "code",
   "execution_count": 3,
   "metadata": {},
   "outputs": [],
   "source": [
    "import os"
   ]
  },
  {
   "cell_type": "code",
   "execution_count": null,
   "metadata": {},
   "outputs": [],
   "source": [
    "#1. loading \n",
    "#- loop over subfolder\n",
    "    #loop over each file\n",
    "#2. nlp spacy\n",
    "#3. save results"
   ]
  },
  {
   "cell_type": "code",
   "execution_count": 14,
   "metadata": {},
   "outputs": [],
   "source": [
    "#Use os.listdir() to print all files (we want to work with).\n",
    "\n",
    "os.listdir(\"/work/IdaHeleneDencker#2808/CDS_language/CDS_lang24/cds-lang-assignment-1/in/USEcorpus\")\n",
    "\n",
    "datapath=(\"/work/IdaHeleneDencker#2808/CDS_language/CDS_lang24/cds-lang-assignment-1/in/USEcorpus\")\n",
    "\n",
    "dirs= sorted(os.listdir(data_path))\n",
    "for directory in dirs:\n",
    "    subfolder= data_path + directory\n",
    "    filenames=  sorted(os.listdir(subfolder))\n",
    "    for text_file in filenames:\n",
    "        print(subfolder + \"/\"+text_file)\n",
    "        #load file\n",
    "        #process with spacy\n",
    "        #save results \n",
    "  \n",
    "\n",
    "\n",
    "\n",
    "files = [f for f in os.listdir(\"/work/IdaHeleneDencker#2808/CDS_language/CDS_lang24/cds-lang-assignment-1/in/USEcorpus\") if os.path.isfile(f)]\n",
    "\n",
    "\n",
    "\n",
    "#filename = (\"..\" ,\"in\",\"USEcorpus\")\n",
    "\n",
    "#with open(filename, encoding = \"latin-1\") as f:\n",
    "    #text= f.read()\n",
    "\n",
    "\n",
    "#for file in folder:"
   ]
  },
  {
   "cell_type": "code",
   "execution_count": 15,
   "metadata": {},
   "outputs": [
    {
     "data": {
      "text/plain": [
       "[]"
      ]
     },
     "execution_count": 15,
     "metadata": {},
     "output_type": "execute_result"
    }
   ],
   "source": [
    "files"
   ]
  },
  {
   "cell_type": "code",
   "execution_count": null,
   "metadata": {},
   "outputs": [],
   "source": [
    "#iterate over data "
   ]
  },
  {
   "cell_type": "code",
   "execution_count": null,
   "metadata": {},
   "outputs": [],
   "source": []
  },
  {
   "cell_type": "code",
   "execution_count": 13,
   "metadata": {},
   "outputs": [
    {
     "data": {
      "text/plain": [
       "[]"
      ]
     },
     "execution_count": 13,
     "metadata": {},
     "output_type": "execute_result"
    }
   ],
   "source": [
    "files"
   ]
  },
  {
   "cell_type": "code",
   "execution_count": null,
   "metadata": {},
   "outputs": [],
   "source": []
  },
  {
   "cell_type": "code",
   "execution_count": null,
   "metadata": {},
   "outputs": [],
   "source": []
  },
  {
   "cell_type": "code",
   "execution_count": null,
   "metadata": {},
   "outputs": [],
   "source": []
  },
  {
   "cell_type": "code",
   "execution_count": null,
   "metadata": {},
   "outputs": [],
   "source": []
  },
  {
   "cell_type": "code",
   "execution_count": null,
   "metadata": {},
   "outputs": [],
   "source": []
  },
  {
   "cell_type": "code",
   "execution_count": null,
   "metadata": {},
   "outputs": [],
   "source": []
  },
  {
   "cell_type": "code",
   "execution_count": null,
   "metadata": {},
   "outputs": [],
   "source": []
  },
  {
   "cell_type": "code",
   "execution_count": null,
   "metadata": {},
   "outputs": [],
   "source": []
  },
  {
   "cell_type": "code",
   "execution_count": 2,
   "metadata": {},
   "outputs": [
    {
     "data": {
      "text/plain": [
       "('..', 'in', 'USEcorpus')"
      ]
     },
     "execution_count": 2,
     "metadata": {},
     "output_type": "execute_result"
    }
   ],
   "source": [
    "filename"
   ]
  },
  {
   "cell_type": "code",
   "execution_count": null,
   "metadata": {},
   "outputs": [],
   "source": []
  },
  {
   "cell_type": "markdown",
   "metadata": {},
   "source": []
  },
  {
   "cell_type": "markdown",
   "metadata": {},
   "source": []
  },
  {
   "cell_type": "code",
   "execution_count": null,
   "metadata": {},
   "outputs": [],
   "source": [
    "# load data \n",
    "filename= \"../in/cds-assignment-templates/cds-lang-assignment-1\"\n",
    "\n",
    "with open(filename, encoding = \"latin-1\") as f:\n",
    "    text= f.read()"
   ]
  },
  {
   "cell_type": "code",
   "execution_count": null,
   "metadata": {},
   "outputs": [],
   "source": [
    "#make for-loop that loads all the files in "
   ]
  },
  {
   "cell_type": "markdown",
   "metadata": {},
   "source": []
  }
 ],
 "metadata": {
  "kernelspec": {
   "display_name": "Python 3",
   "language": "python",
   "name": "python3"
  },
  "language_info": {
   "codemirror_mode": {
    "name": "ipython",
    "version": 3
   },
   "file_extension": ".py",
   "mimetype": "text/x-python",
   "name": "python",
   "nbconvert_exporter": "python",
   "pygments_lexer": "ipython3",
   "version": "3.10.12"
  }
 },
 "nbformat": 4,
 "nbformat_minor": 2
}
