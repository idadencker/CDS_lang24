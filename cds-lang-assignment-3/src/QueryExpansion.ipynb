{
 "cells": [
  {
   "cell_type": "code",
   "execution_count": 1,
   "metadata": {},
   "outputs": [
    {
     "name": "stdout",
     "output_type": "stream",
     "text": [
      "Defaulting to user installation because normal site-packages is not writeable\n",
      "Requirement already satisfied: pandas in /home/ucloud/.local/lib/python3.10/site-packages (2.2.1)\n",
      "Requirement already satisfied: gensim in /home/ucloud/.local/lib/python3.10/site-packages (4.3.2)\n",
      "Requirement already satisfied: numpy<2,>=1.22.4 in /home/ucloud/.local/lib/python3.10/site-packages (from pandas) (1.26.4)\n",
      "Requirement already satisfied: python-dateutil>=2.8.2 in /home/ucloud/.local/lib/python3.10/site-packages (from pandas) (2.8.2)\n",
      "Requirement already satisfied: pytz>=2020.1 in /home/ucloud/.local/lib/python3.10/site-packages (from pandas) (2024.1)\n",
      "Requirement already satisfied: tzdata>=2022.7 in /home/ucloud/.local/lib/python3.10/site-packages (from pandas) (2024.1)\n",
      "Requirement already satisfied: scipy>=1.7.0 in /home/ucloud/.local/lib/python3.10/site-packages (from gensim) (1.12.0)\n",
      "Requirement already satisfied: smart-open>=1.8.1 in /home/ucloud/.local/lib/python3.10/site-packages (from gensim) (7.0.1)\n",
      "Requirement already satisfied: six>=1.5 in /usr/lib/python3/dist-packages (from python-dateutil>=2.8.2->pandas) (1.16.0)\n",
      "Requirement already satisfied: wrapt in /home/ucloud/.local/lib/python3.10/site-packages (from smart-open>=1.8.1->gensim) (1.16.0)\n",
      "\n",
      "\u001b[1m[\u001b[0m\u001b[34;49mnotice\u001b[0m\u001b[1;39;49m]\u001b[0m\u001b[39;49m A new release of pip is available: \u001b[0m\u001b[31;49m23.3.2\u001b[0m\u001b[39;49m -> \u001b[0m\u001b[32;49m24.0\u001b[0m\n",
      "\u001b[1m[\u001b[0m\u001b[34;49mnotice\u001b[0m\u001b[1;39;49m]\u001b[0m\u001b[39;49m To update, run: \u001b[0m\u001b[32;49mpip install --upgrade pip\u001b[0m\n",
      "Note: you may need to restart the kernel to use updated packages.\n"
     ]
    }
   ],
   "source": [
    "#packages\n",
    "%pip install pandas gensim \n",
    "\n",
    "import pandas as pd \n",
    "import gensim.downloader as api\n",
    "import argparse"
   ]
  },
  {
   "cell_type": "markdown",
   "metadata": {},
   "source": [
    "# Load in data"
   ]
  },
  {
   "cell_type": "code",
   "execution_count": 2,
   "metadata": {},
   "outputs": [],
   "source": [
    "song_data = pd.read_csv(\"../data/Spotify Million Song Dataset_exported.csv\")"
   ]
  },
  {
   "cell_type": "code",
   "execution_count": 3,
   "metadata": {},
   "outputs": [
    {
     "data": {
      "text/html": [
       "<div>\n",
       "<style scoped>\n",
       "    .dataframe tbody tr th:only-of-type {\n",
       "        vertical-align: middle;\n",
       "    }\n",
       "\n",
       "    .dataframe tbody tr th {\n",
       "        vertical-align: top;\n",
       "    }\n",
       "\n",
       "    .dataframe thead th {\n",
       "        text-align: right;\n",
       "    }\n",
       "</style>\n",
       "<table border=\"1\" class=\"dataframe\">\n",
       "  <thead>\n",
       "    <tr style=\"text-align: right;\">\n",
       "      <th></th>\n",
       "      <th>artist</th>\n",
       "      <th>song</th>\n",
       "      <th>link</th>\n",
       "      <th>text</th>\n",
       "    </tr>\n",
       "  </thead>\n",
       "  <tbody>\n",
       "    <tr>\n",
       "      <th>0</th>\n",
       "      <td>ABBA</td>\n",
       "      <td>Ahe's My Kind Of Girl</td>\n",
       "      <td>/a/abba/ahes+my+kind+of+girl_20598417.html</td>\n",
       "      <td>Look at her face, it's a wonderful face  \\nAnd...</td>\n",
       "    </tr>\n",
       "    <tr>\n",
       "      <th>1</th>\n",
       "      <td>ABBA</td>\n",
       "      <td>Andante, Andante</td>\n",
       "      <td>/a/abba/andante+andante_20002708.html</td>\n",
       "      <td>Take it easy with me, please  \\nTouch me gentl...</td>\n",
       "    </tr>\n",
       "    <tr>\n",
       "      <th>2</th>\n",
       "      <td>ABBA</td>\n",
       "      <td>As Good As New</td>\n",
       "      <td>/a/abba/as+good+as+new_20003033.html</td>\n",
       "      <td>I'll never know why I had to go  \\nWhy I had t...</td>\n",
       "    </tr>\n",
       "    <tr>\n",
       "      <th>3</th>\n",
       "      <td>ABBA</td>\n",
       "      <td>Bang</td>\n",
       "      <td>/a/abba/bang_20598415.html</td>\n",
       "      <td>Making somebody happy is a question of give an...</td>\n",
       "    </tr>\n",
       "    <tr>\n",
       "      <th>4</th>\n",
       "      <td>ABBA</td>\n",
       "      <td>Bang-A-Boomerang</td>\n",
       "      <td>/a/abba/bang+a+boomerang_20002668.html</td>\n",
       "      <td>Making somebody happy is a question of give an...</td>\n",
       "    </tr>\n",
       "    <tr>\n",
       "      <th>...</th>\n",
       "      <td>...</td>\n",
       "      <td>...</td>\n",
       "      <td>...</td>\n",
       "      <td>...</td>\n",
       "    </tr>\n",
       "    <tr>\n",
       "      <th>57645</th>\n",
       "      <td>Ziggy Marley</td>\n",
       "      <td>Good Old Days</td>\n",
       "      <td>/z/ziggy+marley/good+old+days_10198588.html</td>\n",
       "      <td>Irie days come on play  \\nLet the angels fly l...</td>\n",
       "    </tr>\n",
       "    <tr>\n",
       "      <th>57646</th>\n",
       "      <td>Ziggy Marley</td>\n",
       "      <td>Hand To Mouth</td>\n",
       "      <td>/z/ziggy+marley/hand+to+mouth_20531167.html</td>\n",
       "      <td>Power to the workers  \\nMore power  \\nPower to...</td>\n",
       "    </tr>\n",
       "    <tr>\n",
       "      <th>57647</th>\n",
       "      <td>Zwan</td>\n",
       "      <td>Come With Me</td>\n",
       "      <td>/z/zwan/come+with+me_20148981.html</td>\n",
       "      <td>all you need  \\nis something i'll believe  \\nf...</td>\n",
       "    </tr>\n",
       "    <tr>\n",
       "      <th>57648</th>\n",
       "      <td>Zwan</td>\n",
       "      <td>Desire</td>\n",
       "      <td>/z/zwan/desire_20148986.html</td>\n",
       "      <td>northern star  \\nam i frightened  \\nwhere can ...</td>\n",
       "    </tr>\n",
       "    <tr>\n",
       "      <th>57649</th>\n",
       "      <td>Zwan</td>\n",
       "      <td>Heartsong</td>\n",
       "      <td>/z/zwan/heartsong_20148991.html</td>\n",
       "      <td>come in  \\nmake yourself at home  \\ni'm a bit ...</td>\n",
       "    </tr>\n",
       "  </tbody>\n",
       "</table>\n",
       "<p>57650 rows × 4 columns</p>\n",
       "</div>"
      ],
      "text/plain": [
       "             artist                   song  \\\n",
       "0              ABBA  Ahe's My Kind Of Girl   \n",
       "1              ABBA       Andante, Andante   \n",
       "2              ABBA         As Good As New   \n",
       "3              ABBA                   Bang   \n",
       "4              ABBA       Bang-A-Boomerang   \n",
       "...             ...                    ...   \n",
       "57645  Ziggy Marley          Good Old Days   \n",
       "57646  Ziggy Marley          Hand To Mouth   \n",
       "57647          Zwan           Come With Me   \n",
       "57648          Zwan                 Desire   \n",
       "57649          Zwan              Heartsong   \n",
       "\n",
       "                                              link  \\\n",
       "0       /a/abba/ahes+my+kind+of+girl_20598417.html   \n",
       "1            /a/abba/andante+andante_20002708.html   \n",
       "2             /a/abba/as+good+as+new_20003033.html   \n",
       "3                       /a/abba/bang_20598415.html   \n",
       "4           /a/abba/bang+a+boomerang_20002668.html   \n",
       "...                                            ...   \n",
       "57645  /z/ziggy+marley/good+old+days_10198588.html   \n",
       "57646  /z/ziggy+marley/hand+to+mouth_20531167.html   \n",
       "57647           /z/zwan/come+with+me_20148981.html   \n",
       "57648                 /z/zwan/desire_20148986.html   \n",
       "57649              /z/zwan/heartsong_20148991.html   \n",
       "\n",
       "                                                    text  \n",
       "0      Look at her face, it's a wonderful face  \\nAnd...  \n",
       "1      Take it easy with me, please  \\nTouch me gentl...  \n",
       "2      I'll never know why I had to go  \\nWhy I had t...  \n",
       "3      Making somebody happy is a question of give an...  \n",
       "4      Making somebody happy is a question of give an...  \n",
       "...                                                  ...  \n",
       "57645  Irie days come on play  \\nLet the angels fly l...  \n",
       "57646  Power to the workers  \\nMore power  \\nPower to...  \n",
       "57647  all you need  \\nis something i'll believe  \\nf...  \n",
       "57648  northern star  \\nam i frightened  \\nwhere can ...  \n",
       "57649  come in  \\nmake yourself at home  \\ni'm a bit ...  \n",
       "\n",
       "[57650 rows x 4 columns]"
      ]
     },
     "execution_count": 3,
     "metadata": {},
     "output_type": "execute_result"
    }
   ],
   "source": [
    "song_data"
   ]
  },
  {
   "cell_type": "markdown",
   "metadata": {},
   "source": [
    "# Load in gensim model"
   ]
  },
  {
   "cell_type": "code",
   "execution_count": 4,
   "metadata": {},
   "outputs": [],
   "source": [
    "model = api.load(\"glove-wiki-gigaword-50\")"
   ]
  },
  {
   "cell_type": "markdown",
   "metadata": {},
   "source": [
    "# Function returning the percentage of a given artist's songs that contain the words related to search word"
   ]
  },
  {
   "cell_type": "code",
   "execution_count": null,
   "metadata": {},
   "outputs": [],
   "source": [
    "def get_artist_and_word():\n",
    "    parser= argparse.ArgumentParser(description= \"Loading and printing an array\")\n",
    "    parser.add_argument(\"artist\", #long form name\n",
    "                        \"a\",#short form name\n",
    "                        required= True, #must give it an input in the command \n",
    "                        help= \"put name of artist\") #help message if input is missing \n",
    "    parser.add_argument(\"search_term\", #long form name\n",
    "                        \"s\",#short form name,change\n",
    "                        required= True, #must give it an input in the command \n",
    "                        help= \"put a search term\") #help message if input is missing \n",
    "    args = parser.parse_args()\n",
    "    return args"
   ]
  },
  {
   "cell_type": "code",
   "execution_count": 5,
   "metadata": {},
   "outputs": [],
   "source": [
    "#TEST!! this works :)\n",
    "\n",
    "def calculate_stats(): \n",
    "        #save the name of a chosen artist from the args object \n",
    "        name_of_arist= 'Zwan' \n",
    "        #save the name of a chosen search_term from the args object \n",
    "        chosen_search_term= 'love'\n",
    "    \n",
    "\n",
    "        #initialize empty list for saving the 10 most similar words\n",
    "        similar_words_list=[]\n",
    "        #find most similar words using word embeddigs\n",
    "        words = model.most_similar(chosen_search_term)\n",
    "        # Iterate over the list of tuples and append the first element of each tuple to the new list\n",
    "        for word, _ in words:\n",
    "            similar_words_list.append(word)\n",
    "            \n",
    "        #make a new df, with only the chosen artist's songs\n",
    "        artist_df = song_data[song_data['artist'] == name_of_arist]\n",
    "\n",
    "        #Find how many songs for a given artist features terms from the expanded query        \n",
    "        #make counting variable: \n",
    "        n_songs_where_word_from_wordslist_appears = 0\n",
    "        #loop through the words in the list and add to varible if the song contains a word from the list\n",
    "        for word in similar_words_list:\n",
    "            n_songs_where_word_from_wordslist_appears += artist_df['song'].str.contains(word).sum()\n",
    "\n",
    "        #calulate the total number of songs from given artist\n",
    "        total_n_song_for_artist = len(artist_df)\n",
    "\n",
    "        #get the percentage of how many of the artist songs contains the keywords\n",
    "        percentage= n_songs_where_word_from_wordslist_appears/ total_n_song_for_artist *100 \n",
    "\n",
    "        \n",
    "        return total_n_song_for_artist, n_songs_where_word_from_wordslist_appears, artist_df, similar_words_list, name_of_arist, chosen_search_term, percentage"
   ]
  },
  {
   "cell_type": "code",
   "execution_count": 6,
   "metadata": {},
   "outputs": [],
   "source": [
    "total_n_song_for_artist, n_songs_where_word_from_wordslist_appears,artist_df, similar_words_list, name_of_arist, chosen_search_term, percentage= calculate_stats()"
   ]
  },
  {
   "cell_type": "markdown",
   "metadata": {},
   "source": [
    "# check"
   ]
  },
  {
   "cell_type": "code",
   "execution_count": 7,
   "metadata": {},
   "outputs": [
    {
     "data": {
      "text/plain": [
       "'Zwan'"
      ]
     },
     "execution_count": 7,
     "metadata": {},
     "output_type": "execute_result"
    }
   ],
   "source": [
    "name_of_arist"
   ]
  },
  {
   "cell_type": "code",
   "execution_count": 8,
   "metadata": {},
   "outputs": [
    {
     "data": {
      "text/plain": [
       "'love'"
      ]
     },
     "execution_count": 8,
     "metadata": {},
     "output_type": "execute_result"
    }
   ],
   "source": [
    "chosen_search_term"
   ]
  },
  {
   "cell_type": "code",
   "execution_count": 9,
   "metadata": {},
   "outputs": [
    {
     "data": {
      "text/plain": [
       "['dream',\n",
       " 'life',\n",
       " 'dreams',\n",
       " 'loves',\n",
       " 'me',\n",
       " 'my',\n",
       " 'mind',\n",
       " 'loving',\n",
       " 'wonder',\n",
       " 'soul']"
      ]
     },
     "execution_count": 9,
     "metadata": {},
     "output_type": "execute_result"
    }
   ],
   "source": [
    "similar_words_list"
   ]
  },
  {
   "cell_type": "code",
   "execution_count": 10,
   "metadata": {},
   "outputs": [
    {
     "data": {
      "text/html": [
       "<div>\n",
       "<style scoped>\n",
       "    .dataframe tbody tr th:only-of-type {\n",
       "        vertical-align: middle;\n",
       "    }\n",
       "\n",
       "    .dataframe tbody tr th {\n",
       "        vertical-align: top;\n",
       "    }\n",
       "\n",
       "    .dataframe thead th {\n",
       "        text-align: right;\n",
       "    }\n",
       "</style>\n",
       "<table border=\"1\" class=\"dataframe\">\n",
       "  <thead>\n",
       "    <tr style=\"text-align: right;\">\n",
       "      <th></th>\n",
       "      <th>artist</th>\n",
       "      <th>song</th>\n",
       "      <th>link</th>\n",
       "      <th>text</th>\n",
       "    </tr>\n",
       "  </thead>\n",
       "  <tbody>\n",
       "    <tr>\n",
       "      <th>22682</th>\n",
       "      <td>Zwan</td>\n",
       "      <td>Baby Let's Rock!</td>\n",
       "      <td>/z/zwan/baby+lets+rock_20148979.html</td>\n",
       "      <td>Baby Let's Rock!  \\n  \\nbaby, i'm the greatest...</td>\n",
       "    </tr>\n",
       "    <tr>\n",
       "      <th>22683</th>\n",
       "      <td>Zwan</td>\n",
       "      <td>El Sol</td>\n",
       "      <td>/z/zwan/el+sol_20148987.html</td>\n",
       "      <td>empty-armed  \\nand half a soul to go  \\n  \\nan...</td>\n",
       "    </tr>\n",
       "    <tr>\n",
       "      <th>22684</th>\n",
       "      <td>Zwan</td>\n",
       "      <td>Endless Summer</td>\n",
       "      <td>/z/zwan/endless+summer_20148989.html</td>\n",
       "      <td>there used to be a time that i believed  \\nthe...</td>\n",
       "    </tr>\n",
       "    <tr>\n",
       "      <th>22685</th>\n",
       "      <td>Zwan</td>\n",
       "      <td>Honestly</td>\n",
       "      <td>/z/zwan/honestly_20148993.html</td>\n",
       "      <td>I believe  \\nI believe  \\nI believe  \\nI belie...</td>\n",
       "    </tr>\n",
       "    <tr>\n",
       "      <th>22686</th>\n",
       "      <td>Zwan</td>\n",
       "      <td>Lyric</td>\n",
       "      <td>/z/zwan/lyric_20148998.html</td>\n",
       "      <td>here comes my faith to carry me on  \\na faith ...</td>\n",
       "    </tr>\n",
       "    <tr>\n",
       "      <th>22687</th>\n",
       "      <td>Zwan</td>\n",
       "      <td>Number Of The Beast</td>\n",
       "      <td>/z/zwan/number+of+the+beast_20278420.html</td>\n",
       "      <td>Left alone, my mind was blank.  \\nI needed tim...</td>\n",
       "    </tr>\n",
       "    <tr>\n",
       "      <th>22688</th>\n",
       "      <td>Zwan</td>\n",
       "      <td>Of A Broken Heart</td>\n",
       "      <td>/z/zwan/of+a+broken+heart_20148999.html</td>\n",
       "      <td>if only i die  \\njust once in my life  \\nif on...</td>\n",
       "    </tr>\n",
       "    <tr>\n",
       "      <th>22689</th>\n",
       "      <td>Zwan</td>\n",
       "      <td>Ride A Black Swan</td>\n",
       "      <td>/z/zwan/ride+a+black+swan_20149002.html</td>\n",
       "      <td>a black swan rode me into my place of destiny ...</td>\n",
       "    </tr>\n",
       "    <tr>\n",
       "      <th>22690</th>\n",
       "      <td>Zwan</td>\n",
       "      <td>Settle Down</td>\n",
       "      <td>/z/zwan/settle+down_20149004.html</td>\n",
       "      <td>Settle down, don't settle down without me, no,...</td>\n",
       "    </tr>\n",
       "    <tr>\n",
       "      <th>22691</th>\n",
       "      <td>Zwan</td>\n",
       "      <td>To Love You</td>\n",
       "      <td>/z/zwan/to+love+you_20320157.html</td>\n",
       "      <td>In overdrive  \\nI search for life and feeling ...</td>\n",
       "    </tr>\n",
       "    <tr>\n",
       "      <th>22692</th>\n",
       "      <td>Zwan</td>\n",
       "      <td>Yeah!</td>\n",
       "      <td>/z/zwan/yeah_10198669.html</td>\n",
       "      <td>Yeah  \\nYeah  \\nYeah  \\n  \\nI gave you everyth...</td>\n",
       "    </tr>\n",
       "    <tr>\n",
       "      <th>57647</th>\n",
       "      <td>Zwan</td>\n",
       "      <td>Come With Me</td>\n",
       "      <td>/z/zwan/come+with+me_20148981.html</td>\n",
       "      <td>all you need  \\nis something i'll believe  \\nf...</td>\n",
       "    </tr>\n",
       "    <tr>\n",
       "      <th>57648</th>\n",
       "      <td>Zwan</td>\n",
       "      <td>Desire</td>\n",
       "      <td>/z/zwan/desire_20148986.html</td>\n",
       "      <td>northern star  \\nam i frightened  \\nwhere can ...</td>\n",
       "    </tr>\n",
       "    <tr>\n",
       "      <th>57649</th>\n",
       "      <td>Zwan</td>\n",
       "      <td>Heartsong</td>\n",
       "      <td>/z/zwan/heartsong_20148991.html</td>\n",
       "      <td>come in  \\nmake yourself at home  \\ni'm a bit ...</td>\n",
       "    </tr>\n",
       "  </tbody>\n",
       "</table>\n",
       "</div>"
      ],
      "text/plain": [
       "      artist                 song                                       link  \\\n",
       "22682   Zwan     Baby Let's Rock!       /z/zwan/baby+lets+rock_20148979.html   \n",
       "22683   Zwan               El Sol               /z/zwan/el+sol_20148987.html   \n",
       "22684   Zwan       Endless Summer       /z/zwan/endless+summer_20148989.html   \n",
       "22685   Zwan             Honestly             /z/zwan/honestly_20148993.html   \n",
       "22686   Zwan                Lyric                /z/zwan/lyric_20148998.html   \n",
       "22687   Zwan  Number Of The Beast  /z/zwan/number+of+the+beast_20278420.html   \n",
       "22688   Zwan    Of A Broken Heart    /z/zwan/of+a+broken+heart_20148999.html   \n",
       "22689   Zwan    Ride A Black Swan    /z/zwan/ride+a+black+swan_20149002.html   \n",
       "22690   Zwan          Settle Down          /z/zwan/settle+down_20149004.html   \n",
       "22691   Zwan          To Love You          /z/zwan/to+love+you_20320157.html   \n",
       "22692   Zwan                Yeah!                 /z/zwan/yeah_10198669.html   \n",
       "57647   Zwan         Come With Me         /z/zwan/come+with+me_20148981.html   \n",
       "57648   Zwan               Desire               /z/zwan/desire_20148986.html   \n",
       "57649   Zwan            Heartsong            /z/zwan/heartsong_20148991.html   \n",
       "\n",
       "                                                    text  \n",
       "22682  Baby Let's Rock!  \\n  \\nbaby, i'm the greatest...  \n",
       "22683  empty-armed  \\nand half a soul to go  \\n  \\nan...  \n",
       "22684  there used to be a time that i believed  \\nthe...  \n",
       "22685  I believe  \\nI believe  \\nI believe  \\nI belie...  \n",
       "22686  here comes my faith to carry me on  \\na faith ...  \n",
       "22687  Left alone, my mind was blank.  \\nI needed tim...  \n",
       "22688  if only i die  \\njust once in my life  \\nif on...  \n",
       "22689  a black swan rode me into my place of destiny ...  \n",
       "22690  Settle down, don't settle down without me, no,...  \n",
       "22691  In overdrive  \\nI search for life and feeling ...  \n",
       "22692  Yeah  \\nYeah  \\nYeah  \\n  \\nI gave you everyth...  \n",
       "57647  all you need  \\nis something i'll believe  \\nf...  \n",
       "57648  northern star  \\nam i frightened  \\nwhere can ...  \n",
       "57649  come in  \\nmake yourself at home  \\ni'm a bit ...  "
      ]
     },
     "execution_count": 10,
     "metadata": {},
     "output_type": "execute_result"
    }
   ],
   "source": [
    "artist_df"
   ]
  },
  {
   "cell_type": "code",
   "execution_count": 11,
   "metadata": {},
   "outputs": [
    {
     "data": {
      "text/plain": [
       "14"
      ]
     },
     "execution_count": 11,
     "metadata": {},
     "output_type": "execute_result"
    }
   ],
   "source": [
    "total_n_song_for_artist"
   ]
  },
  {
   "cell_type": "code",
   "execution_count": 12,
   "metadata": {},
   "outputs": [
    {
     "data": {
      "text/plain": [
       "2"
      ]
     },
     "execution_count": 12,
     "metadata": {},
     "output_type": "execute_result"
    }
   ],
   "source": [
    "n_songs_where_word_from_wordslist_appears"
   ]
  },
  {
   "cell_type": "code",
   "execution_count": 13,
   "metadata": {},
   "outputs": [
    {
     "data": {
      "text/plain": [
       "14.285714285714285"
      ]
     },
     "execution_count": 13,
     "metadata": {},
     "output_type": "execute_result"
    }
   ],
   "source": [
    "percentage"
   ]
  },
  {
   "cell_type": "code",
   "execution_count": null,
   "metadata": {},
   "outputs": [],
   "source": [
    "def calculate_stats(): \n",
    "        #save the name of a chosen artist from the args object \n",
    "        name_of_arist= args.artist\n",
    "        #save the name of a chosen search_term from the args object \n",
    "        chosen_search_term= args.search_term \n",
    "\n",
    "        #initialize empty list for saving the 10 most similar words\n",
    "        similar_words_list=[]\n",
    "        #find most similar words using word embeddigs\n",
    "        words = model.most_similar(\"chosen_search_term\")\n",
    "        # Iterate over the list of tuples and append the first element of each tuple to the new list\n",
    "        for word, _ in words:\n",
    "            similar_words_list.append(word)\n",
    "            \n",
    "        #make a new df, with only the chosen artist's songs\n",
    "        artist_df = song_data[song_data['artist'] == 'name_of_arist']\n",
    "\n",
    "        #Find how many songs for a given artist feature terms from the expanded query        \n",
    "        #make counting variable: \n",
    "        n_songs_where_word_from_wordslist_appears = 0\n",
    "        #loop through the words in the list and add to varible if the song contains the word\n",
    "        for word in similar_words_list:\n",
    "            n_songs_where_word_from_wordslist_appears += artist_df['song'].str.contains(word).sum()\n",
    "\n",
    "\n",
    "        #calulate the total number of songs from given artist\n",
    "        total_n_song_for_artist = len(artist_df)\n",
    "\n",
    "        #get the percentage of how many of the artist songs contains the keywords\n",
    "        percentage= n_songs_where_word_from_wordslist_appears/ total_n_song_for_artist *100 \n",
    "\n",
    "        \n",
    "    return name_of_arist, chosen_search_term, percentage\n"
   ]
  },
  {
   "cell_type": "code",
   "execution_count": null,
   "metadata": {},
   "outputs": [],
   "source": [
    "def main():\n",
    "    #load data\n",
    "    song_data = pd.read_csv(\"../data/Spotify Million Song Dataset_exported.csv\")\n",
    "    #idea to lowercase all artist names? and words?\n",
    "    #Load model\n",
    "    model = api.load(\"glove-wiki-gigaword-50\")\n",
    "    #call args fuction \n",
    "    args= get_artist_and_word()\n",
    "    #function for calculation stuff\n",
    "    name_of_arist, chosen_search_term, percentage= calculate_stats()\n",
    "    print(\"{percentage}% of {name_of_arist}'s songs contain words related to {chosen_search_term}\"\")\n",
    "    \n",
    "\n",
    "\n",
    "if __name__ == \"__main__\":\n",
    "    main()"
   ]
  }
 ],
 "metadata": {
  "kernelspec": {
   "display_name": "Python 3",
   "language": "python",
   "name": "python3"
  },
  "language_info": {
   "codemirror_mode": {
    "name": "ipython",
    "version": 3
   },
   "file_extension": ".py",
   "mimetype": "text/x-python",
   "name": "python",
   "nbconvert_exporter": "python",
   "pygments_lexer": "ipython3",
   "version": "3.10.12"
  }
 },
 "nbformat": 4,
 "nbformat_minor": 2
}
